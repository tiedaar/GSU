{
 "cells": [
  {
   "cell_type": "code",
   "execution_count": null,
   "metadata": {},
   "outputs": [],
   "source": [
    "# Get descriptive data from a dataframe with one categorical independent variable and one dependent variable\n",
    "# input dataframe (df) dependent variable (depVar) and indpendent variable (indVar)\n",
    "# output strings in csv format.\n",
    "\n",
    "def descriptive1(df, depVar, indVar):\n",
    "    variables = df[depVar].unique()\n",
    "    for variable in variables:\n",
    "        variable_values = df[taaco[depVar] == variable][indVar]\n",
    "        print(variable, ',', len(variable_values), \",\", round(variable_values.mean(), 2), \",\", round(variable_values.std(), 2))\n",
    "    print('total', ',', len(df), ',', round(df[indVar].mean(),2), ',', round(df[indVar].std(),2))"
   ]
  },
  {
   "cell_type": "code",
   "execution_count": null,
   "metadata": {},
   "outputs": [],
   "source": [
    "# Function to prune variables. Finds collinear variables with r > .7. \n",
    "# Removes the variable least strongly correlated with dependent variable \n",
    "\n",
    "# input dataframe and dependent variable\n",
    "# prints list of rows to drop\n",
    "# output list of rows to prune from the dataframe.\n",
    "\n",
    "def pruner(dataframe, depVar):\n",
    "    rows_to_drop = []\n",
    "    # Makes a correlation table\n",
    "    cor_table = dataframe.corr()\n",
    "    # Iterates through each column of the correlation table\n",
    "    for var in cor_table.columns:\n",
    "        # Iterates through rows where the r value is higher than 0.7\n",
    "        for row in list(cor_table[abs(cor_table[var]) > 0.7].index):\n",
    "            # Ignores cases where the row and column are the same\n",
    "            if row != var:\n",
    "                # If the absolute value of the correlation between the row variable \n",
    "                # and the dependent variable is less than that of the column variable,\n",
    "                # add the row to a list of rows to drop.\n",
    "                if abs(cor_table.loc[depVar][row]) < abs(cor_table.loc[depVar][var]):               \n",
    "                    rows_to_drop.append(row)\n",
    "                else:\n",
    "                    rows_to_drop.append(var)\n",
    "    # Take set of the rows to drop and return that list\n",
    "    rows_to_drop = set(rows_to_drop)\n",
    "    print(rows_to_drop)\n",
    "    return(rows_to_drop)"
   ]
  }
 ],
 "metadata": {
  "kernelspec": {
   "display_name": "Python 3",
   "language": "python",
   "name": "python3"
  },
  "language_info": {
   "codemirror_mode": {
    "name": "ipython",
    "version": 3
   },
   "file_extension": ".py",
   "mimetype": "text/x-python",
   "name": "python",
   "nbconvert_exporter": "python",
   "pygments_lexer": "ipython3",
   "version": "3.8.5"
  }
 },
 "nbformat": 4,
 "nbformat_minor": 4
}
